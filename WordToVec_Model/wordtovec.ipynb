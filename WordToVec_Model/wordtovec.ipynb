{
 "cells": [
  {
   "cell_type": "code",
   "execution_count": 14,
   "metadata": {},
   "outputs": [],
   "source": [
    "import pandas as pd\n",
    "import numpy as np\n",
    "from sklearn.model_selection import train_test_split\n",
    "from nltk.corpus import stopwords\n"
   ]
  },
  {
   "cell_type": "code",
   "execution_count": 26,
   "metadata": {},
   "outputs": [
    {
     "data": {
      "text/html": [
       "<div>\n",
       "<style scoped>\n",
       "    .dataframe tbody tr th:only-of-type {\n",
       "        vertical-align: middle;\n",
       "    }\n",
       "\n",
       "    .dataframe tbody tr th {\n",
       "        vertical-align: top;\n",
       "    }\n",
       "\n",
       "    .dataframe thead th {\n",
       "        text-align: right;\n",
       "    }\n",
       "</style>\n",
       "<table border=\"1\" class=\"dataframe\">\n",
       "  <thead>\n",
       "    <tr style=\"text-align: right;\">\n",
       "      <th></th>\n",
       "      <th>review</th>\n",
       "      <th>sentiment</th>\n",
       "    </tr>\n",
       "  </thead>\n",
       "  <tbody>\n",
       "    <tr>\n",
       "      <th>0</th>\n",
       "      <td>One of the other reviewers has mentioned that ...</td>\n",
       "      <td>positive</td>\n",
       "    </tr>\n",
       "    <tr>\n",
       "      <th>1</th>\n",
       "      <td>A wonderful little production. &lt;br /&gt;&lt;br /&gt;The...</td>\n",
       "      <td>positive</td>\n",
       "    </tr>\n",
       "    <tr>\n",
       "      <th>2</th>\n",
       "      <td>I thought this was a wonderful way to spend ti...</td>\n",
       "      <td>positive</td>\n",
       "    </tr>\n",
       "    <tr>\n",
       "      <th>3</th>\n",
       "      <td>Basically there's a family where a little boy ...</td>\n",
       "      <td>negative</td>\n",
       "    </tr>\n",
       "    <tr>\n",
       "      <th>4</th>\n",
       "      <td>Petter Mattei's \"Love in the Time of Money\" is...</td>\n",
       "      <td>positive</td>\n",
       "    </tr>\n",
       "  </tbody>\n",
       "</table>\n",
       "</div>"
      ],
      "text/plain": [
       "                                              review sentiment\n",
       "0  One of the other reviewers has mentioned that ...  positive\n",
       "1  A wonderful little production. <br /><br />The...  positive\n",
       "2  I thought this was a wonderful way to spend ti...  positive\n",
       "3  Basically there's a family where a little boy ...  negative\n",
       "4  Petter Mattei's \"Love in the Time of Money\" is...  positive"
      ]
     },
     "execution_count": 26,
     "metadata": {},
     "output_type": "execute_result"
    }
   ],
   "source": [
    "movies_data = pd.read_csv('IMDBDataset.csv')[0:3000]\n",
    "movies_data.head()"
   ]
  },
  {
   "cell_type": "code",
   "execution_count": 27,
   "metadata": {},
   "outputs": [
    {
     "name": "stdout",
     "output_type": "stream",
     "text": [
      "<class 'pandas.core.frame.DataFrame'>\n",
      "RangeIndex: 3000 entries, 0 to 2999\n",
      "Data columns (total 2 columns):\n",
      " #   Column     Non-Null Count  Dtype \n",
      "---  ------     --------------  ----- \n",
      " 0   review     3000 non-null   object\n",
      " 1   sentiment  3000 non-null   object\n",
      "dtypes: object(2)\n",
      "memory usage: 47.0+ KB\n"
     ]
    }
   ],
   "source": [
    "movies_data.info()"
   ]
  },
  {
   "cell_type": "code",
   "execution_count": 28,
   "metadata": {},
   "outputs": [
    {
     "data": {
      "text/html": [
       "<div>\n",
       "<style scoped>\n",
       "    .dataframe tbody tr th:only-of-type {\n",
       "        vertical-align: middle;\n",
       "    }\n",
       "\n",
       "    .dataframe tbody tr th {\n",
       "        vertical-align: top;\n",
       "    }\n",
       "\n",
       "    .dataframe thead th {\n",
       "        text-align: right;\n",
       "    }\n",
       "</style>\n",
       "<table border=\"1\" class=\"dataframe\">\n",
       "  <thead>\n",
       "    <tr style=\"text-align: right;\">\n",
       "      <th></th>\n",
       "      <th>review</th>\n",
       "      <th>sentiment</th>\n",
       "    </tr>\n",
       "  </thead>\n",
       "  <tbody>\n",
       "    <tr>\n",
       "      <th>count</th>\n",
       "      <td>3000</td>\n",
       "      <td>3000</td>\n",
       "    </tr>\n",
       "    <tr>\n",
       "      <th>unique</th>\n",
       "      <td>3000</td>\n",
       "      <td>2</td>\n",
       "    </tr>\n",
       "    <tr>\n",
       "      <th>top</th>\n",
       "      <td>One of the other reviewers has mentioned that ...</td>\n",
       "      <td>positive</td>\n",
       "    </tr>\n",
       "    <tr>\n",
       "      <th>freq</th>\n",
       "      <td>1</td>\n",
       "      <td>1508</td>\n",
       "    </tr>\n",
       "  </tbody>\n",
       "</table>\n",
       "</div>"
      ],
      "text/plain": [
       "                                                   review sentiment\n",
       "count                                                3000      3000\n",
       "unique                                               3000         2\n",
       "top     One of the other reviewers has mentioned that ...  positive\n",
       "freq                                                    1      1508"
      ]
     },
     "execution_count": 28,
     "metadata": {},
     "output_type": "execute_result"
    }
   ],
   "source": [
    "movies_data.describe()"
   ]
  },
  {
   "cell_type": "code",
   "execution_count": 29,
   "metadata": {},
   "outputs": [
    {
     "data": {
      "text/plain": [
       "3000"
      ]
     },
     "execution_count": 29,
     "metadata": {},
     "output_type": "execute_result"
    }
   ],
   "source": [
    "movies_data['review'].nunique()"
   ]
  },
  {
   "cell_type": "code",
   "execution_count": 30,
   "metadata": {},
   "outputs": [
    {
     "data": {
      "text/plain": [
       "review\n",
       "One of the other reviewers has mentioned that after watching just 1 Oz episode you'll be hooked. They are right, as this is exactly what happened with me.<br /><br />The first thing that struck me about Oz was its brutality and unflinching scenes of violence, which set in right from the word GO. Trust me, this is not a show for the faint hearted or timid. This show pulls no punches with regards to drugs, sex or violence. Its is hardcore, in the classic use of the word.<br /><br />It is called OZ as that is the nickname given to the Oswald Maximum Security State Penitentary. It focuses mainly on Emerald City, an experimental section of the prison where all the cells have glass fronts and face inwards, so privacy is not high on the agenda. Em City is home to many..Aryans, Muslims, gangstas, Latinos, Christians, Italians, Irish and more....so scuffles, death stares, dodgy dealings and shady agreements are never far away.<br /><br />I would say the main appeal of the show is due to the fact that it goes where other shows wouldn't dare. Forget pretty pictures painted for mainstream audiences, forget charm, forget romance...OZ doesn't mess around. The first episode I ever saw struck me as so nasty it was surreal, I couldn't say I was ready for it, but as I watched more, I developed a taste for Oz, and got accustomed to the high levels of graphic violence. Not just violence, but injustice (crooked guards who'll be sold out for a nickel, inmates who'll kill on order and get away with it, well mannered, middle class inmates being turned into prison bitches due to their lack of street skills or prison experience) Watching Oz, you may become comfortable with what is uncomfortable viewing....thats if you can get in touch with your darker side.    1\n",
       "This Showtime cable film features a talented cast and weaves together several storylines involving the darker side of New York... from the naive and innocent tourists' nightmarish adventure to a pair of undercover cops on the streets... to an old friend's betrayal, it has it all.<br /><br />Well worth a look, as is its sequel.                                                                                                                                                                                                                                                                                                                                                                                                                                                                                                                                                                                                                                                                                                                                                                                                                                                                                                                                                                                                                                                                                                                                                                                                                                                                                                                                                                                                                                                                                             1\n",
       "One of the worst movies ever made... If you can get through this movies without falling asleep, then you are doing pretty good, considering no matter how hard you turn up the volume you cant hear what the 'actors' (?) are saying and if you can acually see whats going on from the terrible film (I mean hell if you cant find anything that works better... use a Home movie camara... AT LEAST YOU CAN ACUALLY TELL WHATS GOING ON!)<br /><br />It is beyond my imagination how people get a movie like this to slip through the cracks, and escape on video... and further more.. how do people making this not know how terrible it is... good god... (!)<br /><br />After what I have just told you... If you are waiting for me to give you a summary of this piece of trash movie, there is nothing to tell... a group of campers on motorcycles get lost in the woods and a bunch of people terrorize them... or somthing to that... whats more so an action movie than a horror... this 'movie' (?) is of NO interest... if someone acually likes this I litterally feel for you.... <br /><br />Absolute Trash... not even one of those cheap funny flicks to watch go rent.. 'Plan 9 From Outerspace' and have a ball                                                                                                                                                                                                                                                                                                                                                                                                                                                                                                                                                                                                1\n",
       "Feeling Minnesota, directed by Steven Baigelmann, and starring Keanu Reeves, Cameron Diaz and Vincent D'Onofrio: The strained relationship between two brothers, Sam (D'Onofrio) and Jjaks (Reeves), is pushed to breaking point when Jjaks arrives at Sam's wedding and makes off with the bride, Freddie (Diaz), a former stripper, marrying Sam to repay a gambling debt owed to night-club owner Red (Lindo). Baigelman's writing and directing debut is a frustrating mess, full of hateful characters and lacking coherence. Putting Keanu and Diaz in the same movie should at least provide some eye candy, but Baigelman even cops out on that score, grudging his actors up with little positive effect. Very poor.                                                                                                                                                                                                                                                                                                                                                                                                                                                                                                                                                                                                                                                                                                                                                                                                                                                                                                                                                                                                                                                                                                        1\n",
       "THE CELL (2000) Rating: 8/10<br /><br />The Cell, like Antz, must be watched twice to be appreciated. The first time I saw this film I thought it was mediocre, but the film had such a lasting impression on me after viewing, I decided I had to rent it again. I did, and I found the film to be much more likeable. The Cell is not for everyone, but it divides its stories up with quality and is a visually intelligent film that dreams up images and plot ideas that could not be matched. The film's script can be clunky at times, as can the acting, but the visuals are ingenious and bring the engaging story to an exotic and intriguing life. The Oscar nominated makeup is also daring and careful, while the beautiful costumes and utterly brilliant set decoration went unnoticed. Tarsem Singh who has also directed music videos, goes totally crazy with his direction and it results well. He has major talent and this film has a lot of potential if you give it a chance. Overall, The Cell is a powerful, disturbing and avoids being too tacky which makes it a great, pleasurable watch.                                                                                                                                                                                                                                                                                                                                                                                                                                                                                                                                                                                                                                                                                                               1\n",
       "                                                                                                                                                                                                                                                                                                                                                                                                                                                                                                                                                                                                                                                                                                                                                                                                                                                                                                                                                                                                                                                                                                                                                                                                                                                                                                                                                                                                                                                                                                                                                                                                                                                                                                                                                                                                                                    ..\n",
       "I can't believe that those praising this movie herein aren't thinking of some other film. I was prepared for the possibility that this would be awful, but the script (or lack thereof) makes for a film that's also pointless. On the plus side, the general level of craft on the part of the actors and technical crew is quite competent, but when you've got a sow's ear to work with you can't make a silk purse. Ben G fans should stick with just about any other movie he's been in. Dorothy S fans should stick to Galaxina. Peter B fans should stick to Last Picture Show and Target. Fans of cheap laughs at the expense of those who seem to be asking for it should stick to Peter B's amazingly awful book, Killing of the Unicorn.                                                                                                                                                                                                                                                                                                                                                                                                                                                                                                                                                                                                                                                                                                                                                                                                                                                                                                                                                                                                                                                                                  1\n",
       "This film really used its locations well with some amazing shots, dark and disturbing the film moves very slowly, but constantly keeps you watching. Modern Love worked well in the Gold Coast Film Fantastic program this year offering audiences a glimpse at an Australian Cinema that is usually neglected. Most importantly it is refreshing to see Australian cinema not taking on the cliché Aussie characters and story lines we have seen done to death over the years. This film would compliment any festival and will open debate after its screenings. The performances and characters are well developed, and the cinematography is fantastic. An interesting exploration into family relationships, and environments.                                                                                                                                                                                                                                                                                                                                                                                                                                                                                                                                                                                                                                                                                                                                                                                                                                                                                                                                                                                                                                                                                                 1\n",
       "Strangely enough this movie never made it to the big screen in Denmark, so I had to wait for the video release. My expectations where high but they where in no way disappointed. As always with Ang Lee there is fantastic acting, an intelligent and thrilling plot that has you guessing right till the end and superb filming. Along with Unforgiven this is easily one of the two best westerns of the 90`s.<br /><br />People who expect something along the line of Mel Gibson in The Patriot(corny) or Braveheart(acceptable) will be sourly disappointed, all others who appreciate the above mentioned qualities will have a fantastic time watching it. 9 out of 10.                                                                                                                                                                                                                                                                                                                                                                                                                                                                                                                                                                                                                                                                                                                                                                                                                                                                                                                                                                                                                                                                                                                                                      1\n",
       "This film is so bad - dialogues, story, actors and actresses - everything! - that it's hard to imagine that we'll see a worse movie this year or in the following years. \"Love's Brother\" (set in Australia among Italian immigrants) has nothing but shallow clichés about Italian culture to offer, and it is quite telling that even the Italians from and in Italy speak ENGLISH in the film. The message of the film - ugly people have to marry ugly people, beautiful people have to marry beautiful people - is truly discomforting. Giovanni Ribisi is quite good in films like 'Suburbia' or 'Lost in Translation', but here his pseudo-Italian accent is hard to bear. See this film at your own risk. Trash as trash can!                                                                                                                                                                                                                                                                                                                                                                                                                                                                                                                                                                                                                                                                                                                                                                                                                                                                                                                                                                                                                                                                                                1\n",
       "I hired this movie expecting a few laughs, hopefully enough to keep me amused but I was sorely mistaken. This movie showed very minimal moments of humour and the pathetic jokes had me cringing with shame for ever hiring it... Aimed at an age group of 10-15, this movie will certainly leave viewers outside of these boundaries feeling very unsatisfied. Worth no more than 3 votes highly unrecommended for anyone not wanting to waste 2 hours of their lives.                                                                                                                                                                                                                                                                                                                                                                                                                                                                                                                                                                                                                                                                                                                                                                                                                                                                                                                                                                                                                                                                                                                                                                                                                                                                                                                                                              1\n",
       "Name: count, Length: 3000, dtype: int64"
      ]
     },
     "execution_count": 30,
     "metadata": {},
     "output_type": "execute_result"
    }
   ],
   "source": [
    "movies_data[\"review\"].value_counts()"
   ]
  },
  {
   "cell_type": "code",
   "execution_count": 31,
   "metadata": {},
   "outputs": [],
   "source": [
    "movies_data.drop_duplicates(subset=['review'],inplace=True)"
   ]
  },
  {
   "cell_type": "code",
   "execution_count": 32,
   "metadata": {},
   "outputs": [],
   "source": [
    "# remove HTML tags from the string\n",
    "import re\n",
    "\n",
    "def remove_html_tags(text):\n",
    "    clean = re.sub(r'<[^>]+>', '', text)\n",
    "    return clean\n",
    "\n",
    "movies_data['review']= movies_data['review'].apply(lambda msg: remove_html_tags(msg))\n"
   ]
  },
  {
   "cell_type": "code",
   "execution_count": 33,
   "metadata": {},
   "outputs": [
    {
     "data": {
      "text/html": [
       "<div>\n",
       "<style scoped>\n",
       "    .dataframe tbody tr th:only-of-type {\n",
       "        vertical-align: middle;\n",
       "    }\n",
       "\n",
       "    .dataframe tbody tr th {\n",
       "        vertical-align: top;\n",
       "    }\n",
       "\n",
       "    .dataframe thead th {\n",
       "        text-align: right;\n",
       "    }\n",
       "</style>\n",
       "<table border=\"1\" class=\"dataframe\">\n",
       "  <thead>\n",
       "    <tr style=\"text-align: right;\">\n",
       "      <th></th>\n",
       "      <th>review</th>\n",
       "      <th>sentiment</th>\n",
       "    </tr>\n",
       "  </thead>\n",
       "  <tbody>\n",
       "    <tr>\n",
       "      <th>0</th>\n",
       "      <td>One of the other reviewers has mentioned that ...</td>\n",
       "      <td>1</td>\n",
       "    </tr>\n",
       "    <tr>\n",
       "      <th>1</th>\n",
       "      <td>A wonderful little production. The filming tec...</td>\n",
       "      <td>1</td>\n",
       "    </tr>\n",
       "    <tr>\n",
       "      <th>2</th>\n",
       "      <td>I thought this was a wonderful way to spend ti...</td>\n",
       "      <td>1</td>\n",
       "    </tr>\n",
       "    <tr>\n",
       "      <th>3</th>\n",
       "      <td>Basically there's a family where a little boy ...</td>\n",
       "      <td>0</td>\n",
       "    </tr>\n",
       "  </tbody>\n",
       "</table>\n",
       "</div>"
      ],
      "text/plain": [
       "                                              review  sentiment\n",
       "0  One of the other reviewers has mentioned that ...          1\n",
       "1  A wonderful little production. The filming tec...          1\n",
       "2  I thought this was a wonderful way to spend ti...          1\n",
       "3  Basically there's a family where a little boy ...          0"
      ]
     },
     "execution_count": 33,
     "metadata": {},
     "output_type": "execute_result"
    }
   ],
   "source": [
    "\n",
    "movies_data['sentiment'] = movies_data['sentiment'].map({'positive': 1, 'negative': 0})\n",
    "movies_data.head(4)"
   ]
  },
  {
   "cell_type": "code",
   "execution_count": 34,
   "metadata": {},
   "outputs": [],
   "source": [
    "movies_data['Tokenized'] = [[word for word in document.lower().split() if word not in stopwords.words('english')]\n",
    "         for document in movies_data['review']]"
   ]
  },
  {
   "cell_type": "code",
   "execution_count": null,
   "metadata": {},
   "outputs": [],
   "source": [
    "X=movies_data['Tokenized']\n",
    "y= movies_data['sentiment']\n",
    "X_train, X_test, y_train, y_test = train_test_split(\n",
    "    X, y, test_size=0.33, random_state=42)\n",
    "\n"
   ]
  },
  {
   "cell_type": "code",
   "execution_count": 39,
   "metadata": {},
   "outputs": [
    {
     "data": {
      "text/plain": [
       "2761    [film, actually, works, fairly, original, idea...\n",
       "123     [ah, yes, 1980s, ,, time, reaganomics, sly, ,,...\n",
       "1808    [group, young, filmmakers, virtually, budget, ...\n",
       "2286    [jay, craven's, criminally, ignored, film, sob...\n",
       "2147    [masayuki, suo,, directed, fine, film,, role.,...\n",
       "                              ...                        \n",
       "1638    [film's, kind, like, conan, barabarian,, sex,,...\n",
       "1095    [immoral, reprehensible, piece, garbage,, doub...\n",
       "1130    [chance, view, previous, film,, i've, read, po...\n",
       "1294    [movie, masterpiece, human, emotions, experien...\n",
       "860     [production, quite, surprise, me., absolutely,...\n",
       "Name: Tokenized, Length: 2010, dtype: object"
      ]
     },
     "execution_count": 39,
     "metadata": {},
     "output_type": "execute_result"
    }
   ],
   "source": [
    "X_train"
   ]
  },
  {
   "cell_type": "code",
   "execution_count": 12,
   "metadata": {},
   "outputs": [
    {
     "data": {
      "text/plain": [
       "(20070521, 20508405)"
      ]
     },
     "execution_count": 12,
     "metadata": {},
     "output_type": "execute_result"
    }
   ],
   "source": [
    "from gensim.models import Word2Vec\n",
    "\n",
    "# Train Word2Vec on X_train only\n",
    "word2vec_model = Word2Vec(X_train, vector_size=200, window=5, min_count=1, workers=4)\n",
    "\n",
    "word2vec_model.build_vocab(X_train, update=True)\n",
    "word2vec_model.train(X_train, total_examples=word2vec_model.corpus_count, epochs=word2vec_model.epochs)"
   ]
  },
  {
   "cell_type": "code",
   "execution_count": 13,
   "metadata": {},
   "outputs": [],
   "source": [
    "\n",
    "def get_average_word_vector(words, model):\n",
    "    vectors = [model.wv[word] for word in words if word in model.wv]\n",
    "    if len(vectors) > 0:\n",
    "        return np.mean(vectors, axis=0)\n",
    "    else:\n",
    "        return np.zeros(model.vector_size)"
   ]
  },
  {
   "cell_type": "code",
   "execution_count": 14,
   "metadata": {},
   "outputs": [],
   "source": [
    "\n",
    "# Transform X_train and X_test into feature vectors\n",
    "X_train_vectors = np.array([get_average_word_vector(words, word2vec_model) for words in X_train])\n",
    "X_test_vectors = np.array([get_average_word_vector(words, word2vec_model) for words in X_test])"
   ]
  },
  {
   "cell_type": "code",
   "execution_count": null,
   "metadata": {},
   "outputs": [],
   "source": []
  },
  {
   "cell_type": "code",
   "execution_count": null,
   "metadata": {},
   "outputs": [],
   "source": [
    "from sklearn.ensemble import RandomForestClassifier\n",
    "from sklearn.metrics import classification_report\n",
    "\n",
    "# Train the Random Forest Classifier\n",
    "classifier = RandomForestClassifier(n_estimators=100, random_state=42)\n",
    "classifier.fit(X_train_vectors, y_train)\n",
    "y_pre = classifier.predict(X_test_vectors)\n",
    "\n",
    "\n",
    "# Predict on the test set"
   ]
  },
  {
   "cell_type": "code",
   "execution_count": 23,
   "metadata": {},
   "outputs": [
    {
     "name": "stdout",
     "output_type": "stream",
     "text": [
      "              precision    recall  f1-score   support\n",
      "\n",
      "           0       0.83      0.79      0.81      8182\n",
      "           1       0.80      0.84      0.82      8181\n",
      "\n",
      "    accuracy                           0.82     16363\n",
      "   macro avg       0.82      0.82      0.82     16363\n",
      "weighted avg       0.82      0.82      0.82     16363\n",
      "\n"
     ]
    }
   ],
   "source": [
    "print(classification_report(y_test,y_pre))"
   ]
  },
  {
   "cell_type": "code",
   "execution_count": 41,
   "metadata": {},
   "outputs": [
    {
     "name": "stdout",
     "output_type": "stream",
     "text": [
      "['word', 'embedding', 'is', 'an', 'interesting', 'concept', 'in', 'natural', 'language', 'processing', '.']\n",
      "Word Vectors:\n",
      "[ 0.00805032  0.00869828  0.01991465 -0.00894801 -0.00277418 -0.01463869\n",
      " -0.01939531 -0.01816622 -0.00204768 -0.01300286  0.00969965 -0.01232923\n",
      "  0.00503666  0.00147484 -0.00678588 -0.00195731  0.01995995  0.0182968\n",
      " -0.00892614  0.01816928 -0.01128177  0.01186771 -0.00619591  0.00685921\n",
      "  0.00603751  0.01380274 -0.00474421  0.01755155  0.01517907 -0.01910217\n",
      " -0.01601864 -0.01527592  0.00585011 -0.0055862  -0.01386368 -0.01625729\n",
      "  0.01662351  0.00397879 -0.01865978 -0.00958276  0.00627506 -0.00942734\n",
      "  0.01056474 -0.00846769  0.00528943 -0.01609037  0.01241625  0.00963498\n",
      "  0.00157505  0.00603105]\n",
      "Similarity between 'word' and 'embedding': -0.1122526004910469\n"
     ]
    }
   ],
   "source": [
    "# how to used the word2vec model \n",
    "\n",
    "from gensim.models import Word2Vec\n",
    "from nltk.tokenize import word_tokenize\n",
    "sentence = \"Word embedding is an interesting concept in natural language processing.\"\n",
    "# Tokenize the sentence\n",
    "tokenized_sentence = word_tokenize(sentence.lower())\n",
    "print(tokenized_sentence)\n",
    "# Create Word2Vec model\n",
    "word2vec_model = Word2Vec([tokenized_sentence], vector_size=50, window=5, min_count=1, workers=4)\n",
    "# Get the word vectors\n",
    "word_vectors = word2vec_model.wv\n",
    "print(\"Word Vectors:\")\n",
    "print(word_vectors['embedding'])\n",
    "# Similarity between words\n",
    "similarity = word_vectors.similarity('word', 'embedding')\n",
    "print(f\"Similarity between 'word' and 'embedding': {similarity}\")"
   ]
  },
  {
   "cell_type": "code",
   "execution_count": null,
   "metadata": {},
   "outputs": [],
   "source": []
  }
 ],
 "metadata": {
  "kernelspec": {
   "display_name": "base",
   "language": "python",
   "name": "python3"
  },
  "language_info": {
   "codemirror_mode": {
    "name": "ipython",
    "version": 3
   },
   "file_extension": ".py",
   "mimetype": "text/x-python",
   "name": "python",
   "nbconvert_exporter": "python",
   "pygments_lexer": "ipython3",
   "version": "3.12.4"
  }
 },
 "nbformat": 4,
 "nbformat_minor": 2
}
